{
  "cells": [
    {
      "cell_type": "markdown",
      "metadata": {
        "id": "QcN62PrTNuNr"
      },
      "source": [
        "# Projeto Final | Sistema de Controle Financeiro"
      ]
    },
    {
      "cell_type": "markdown",
      "metadata": {},
      "source": [
        "%----------------------------------------------------------------------------%<br>\n",
        "<br>\n",
        "``Autores:`` Andrea Elias, Anthony Heimlich, Éverton Donato, Julia Midori e Luana Kruger  <br>\n",
        "<br>\n",
        "``Instituição:`` ADA Tech<br>\n",
        "<br>\n",
        "``Projeto:`` Santander Coders 2023.2<br>\n",
        "<br>\n",
        "``Descrição:`` Este código desenvolve um sistema para controle financeiro que receba as movimentações e as armazena em um arquivo csv ou json.<br>\n",
        "<br>\n",
        "``Repositório GitHub:`` https://github.com/JuliaMidoriRW/Trabalho_Final_LogProgII_Grupo4 <br>\n",
        "<br>\n",
        "\n",
        "%----------------------------------------------------------------------------%"
      ]
    },
    {
      "cell_type": "markdown",
      "metadata": {},
      "source": [
        "# Carregar bibliotecas e lista de registros"
      ]
    },
    {
      "cell_type": "code",
      "execution_count": 30,
      "metadata": {},
      "outputs": [],
      "source": [
        "from datetime import datetime\n",
        "from dateutil import relativedelta\n",
        "import os"
      ]
    },
    {
      "cell_type": "code",
      "execution_count": 31,
      "metadata": {},
      "outputs": [],
      "source": [
        "registros = []"
      ]
    },
    {
      "cell_type": "markdown",
      "metadata": {},
      "source": [
        "# Carregar funções"
      ]
    },
    {
      "cell_type": "markdown",
      "metadata": {},
      "source": [
        "### Função Calcular rendimento"
      ]
    },
    {
      "cell_type": "code",
      "execution_count": 32,
      "metadata": {},
      "outputs": [],
      "source": [
        "def calcula_rendimento(valor, data):\n",
        "    \"\"\"\n",
        "    Calcular montante com base no valor e na data do registro.\n",
        "\n",
        "    Parameters\n",
        "    ----------\n",
        "    valor: float\n",
        "        Valor do registro financeiro.\n",
        "        \n",
        "    data: datetime\n",
        "        Data do registro no formato 'YYYY-MM-DD'.\n",
        "\n",
        "    Returns\n",
        "    -------\n",
        "    montante: float\n",
        "        Valor do rendimento considerando uma taxa de rendimento diário.\n",
        "\n",
        "    \"\"\"\n",
        "    \n",
        "    data_registro = datetime.strptime(data, \"%Y-%m-%d\").date()\n",
        "    data_agora = datetime.now().date()\n",
        "    delta = relativedelta.relativedelta(data_agora, data_registro)\n",
        "\n",
        "    meses = delta.months + (delta.years * 12)\n",
        "    taxa = 0.01  # Exemplo: taxa de rendimento diária (1%)\n",
        "    montante = (valor * ((1 + taxa) ** meses)) - valor\n",
        "\n",
        "    return montante"
      ]
    },
    {
      "cell_type": "markdown",
      "metadata": {},
      "source": [
        "### Função Criar registro"
      ]
    },
    {
      "cell_type": "code",
      "execution_count": 33,
      "metadata": {},
      "outputs": [],
      "source": [
        "def criar_registro(tipo, valor, data):\n",
        "    \"\"\"\n",
        "    Criar novos registros e identificar a data que o registro foi feito, qual tipo de movimentação, valor.\n",
        "\n",
        "    Parameters\n",
        "    ----------\n",
        "    tipo: string\n",
        "        Tipo da movimentação realizada. Os tipos podem ser:\n",
        "        - Receita (valor numérico e armazenado normalmente), \n",
        "        - Despesas (valor positivo, mas armazenado como negativo),\n",
        "        - Investimento (tem a informação de 'Montante').\n",
        "\n",
        "    valor: float\n",
        "        Valor do registro.\n",
        "\n",
        "    data: datetime\n",
        "        Data do registro no formato 'YYYY-MM-DD'.\n",
        "\n",
        "    Returns\n",
        "    -------\n",
        "    None\n",
        "\n",
        "    Exemplo\n",
        "    -------\n",
        "    >>> criar_registro(\"Receita\", 100, \"2022-01-01\")\n",
        "    >>> criar_registro(\"Despesa\", 50, \"2022-01-02\")\n",
        "    >>> criar_registro(\"Investimento\", 200, \"2022-01-03\")\n",
        "\n",
        "    \"\"\"\n",
        "\n",
        "    data_registro = datetime.strptime(data, \"%Y-%m-%d\").date()\n",
        "    dia, mes, ano = data_registro.day, data_registro.month, data_registro.year\n",
        "    \n",
        "    registro = {\n",
        "        'tipo': tipo.lower()\n",
        "        , 'valor': -valor if tipo.lower() == 'despesa' else valor\n",
        "        , 'dia': dia\n",
        "        , 'mes': mes\n",
        "        , 'ano': ano\n",
        "    }\n",
        "\n",
        "    if tipo.lower() == 'investimento':\n",
        "        registro['montante'] = calcula_rendimento(valor, data)\n",
        "        \n",
        "    registros.append(registro)"
      ]
    },
    {
      "cell_type": "markdown",
      "metadata": {},
      "source": [
        "### Função Ler registro"
      ]
    },
    {
      "cell_type": "code",
      "execution_count": 47,
      "metadata": {},
      "outputs": [],
      "source": [
        "def ler_registros(chave, valor):\n",
        "    \"\"\"\n",
        "    Consultar os registros por data, tipo ou valor.\n",
        "\n",
        "    Parameters\n",
        "    ----------\n",
        "    chave: string\n",
        "        Chave pela qual os registros serão consultados ('data', 'tipo' ou 'valor').\n",
        "\n",
        "    valor: string or float\n",
        "        Valor associado à chave para filtrar os registros.\n",
        "\n",
        "    Returns\n",
        "    -------\n",
        "    resultado: list[dict]\n",
        "        Lista de registros que correspondem aos critérios de consulta.\n",
        "\n",
        "\n",
        "    Exemplo\n",
        "    -------\n",
        "    >>> ler_registros('tipo', 'Receita')\n",
        "    >>> ler_registros('data', '2022-02-15')\n",
        "    >>> ler_registros('valor', 1000)\n",
        "\n",
        "    \"\"\"\n",
        "\n",
        "    resultado = []\n",
        "\n",
        "    valor = valor.lower() if isinstance(valor,str) else valor\n",
        "    chave = chave.lower()\n",
        "\n",
        "    for operacao in registros:\n",
        "        if chave != \"data\":\n",
        "            if operacao[chave] == valor:\n",
        "                resultado.append(operacao)\n",
        "        else:\n",
        "            data_registro = datetime.strptime(valor, \"%Y-%m-%d\").date()\n",
        "            dia, mes, ano = data_registro.day, data_registro.month, data_registro.year\n",
        "            if operacao[\"dia\"] == dia and operacao[\"mes\"] == mes and operacao[\"ano\"] == ano:\n",
        "                resultado.append(operacao)\n",
        "\n",
        "    return resultado\n"
      ]
    },
    {
      "cell_type": "markdown",
      "metadata": {},
      "source": [
        "### Função Atualizar registro"
      ]
    },
    {
      "cell_type": "code",
      "execution_count": 49,
      "metadata": {},
      "outputs": [],
      "source": [
        "def atualizar_registro(indice, tipo, valor):\n",
        "    \"\"\"\n",
        "    Atualiza o valor e/ou o tipo do registro no índice especificado.\n",
        "\n",
        "    Parameters\n",
        "    ----------\n",
        "    indice: int\n",
        "        Índice do registro a ser atualizado.\n",
        "\n",
        "    tipo: string\n",
        "        Tipo da movimentação financeira ('Receita', 'Despesa' ou 'Investimento').\n",
        "\n",
        "    valor: float\n",
        "        Valor da movimentação financeira.\n",
        "\n",
        "    Returns\n",
        "    -------\n",
        "    None\n",
        "\n",
        "    Nota\n",
        "    -------\n",
        "    - Se o índice estiver fora dos limites dos registros existentes, nenhum registro será atualizado.\n",
        "    - A data do registro é automaticamente atualizada para a data e hora atuais.\n",
        "    - Se o tipo for especificado como 'Investimento', o montante também será recalculado.\n",
        "\n",
        "    Exemplo\n",
        "    -------\n",
        "    >>> atualizar_registro(0, tipo='Receita', valor=1500.0)\n",
        "    >>> atualizar_registro(2, tipo='Investimento', valor=100)\n",
        "    \n",
        "    \"\"\"\n",
        "    \n",
        "    tipo = tipo.lower()\n",
        "    valor = valor.lower() if isinstance(valor,str) else valor\n",
        "    \n",
        "    if indice < len(registros):\n",
        "        registro = registros[indice]\n",
        "        if tipo:\n",
        "            registro['tipo'] = tipo\n",
        "        if valor:\n",
        "            registro['valor'] = valor\n",
        "            \n",
        "        data_agora = datetime.now()\n",
        "        dia, mes, ano = data_agora.day, data_agora.month, data_agora.year\n",
        "        registro['dia'], registro['mes'], registro['ano'] = dia, mes, ano\n",
        "\n",
        "        if registro['tipo'] == \"investimento\":\n",
        "            registro['montante'] = calcula_rendimento(registro['valor'], f\"{ano}-{mes:02d}-{dia:02d}\")\n",
        "\n",
        "        print('Registro', indice, 'atualizado com sucesso')\n",
        "    \n",
        "    else:\n",
        "        print('Índice fora dos limites dos registros existentes, nenhum registro foi atualizado.')"
      ]
    },
    {
      "cell_type": "markdown",
      "metadata": {},
      "source": [
        "### Função Deletar registro"
      ]
    },
    {
      "cell_type": "code",
      "execution_count": 36,
      "metadata": {},
      "outputs": [],
      "source": [
        "def deletar_registro(indice):\n",
        "    \"\"\"\n",
        "    Deleta o registro no índice especificado.\n",
        "\n",
        "    Parameters\n",
        "    ----------\n",
        "    indice: int\n",
        "        Indice do registro a ser deletado.\n",
        "\n",
        "    Returns\n",
        "    -------\n",
        "    None\n",
        "\n",
        "    Nota\n",
        "    -------\n",
        "    - Se o índice estiver fora dos limites dos registros existentes, nenhum registro será deletado.\n",
        "\n",
        "    Exemplo\n",
        "    -------\n",
        "    >>> deletar_registro(0)\n",
        "    >>> deletar_registro(2)\n",
        "\n",
        "    \"\"\"\n",
        "    if indice < len(registros):\n",
        "        del registros[indice]\n",
        "        print('Registro', indice, 'deletado com sucesso')\n",
        "    \n",
        "    else:\n",
        "        print('Índice fora dos limites dos registros existentes, nenhum registro foi deletado.')"
      ]
    },
    {
      "cell_type": "markdown",
      "metadata": {},
      "source": [
        "### Função Atualizar rendimento"
      ]
    },
    {
      "cell_type": "code",
      "execution_count": 37,
      "metadata": {},
      "outputs": [],
      "source": [
        "def atualiza_rendimento():\n",
        "    \"\"\"\n",
        "    Atualiza os valores de rendimento para todas as movimentações do tipo 'Investimento'.\n",
        "\n",
        "    Parameters\n",
        "    ----------\n",
        "    None\n",
        "\n",
        "    Returns\n",
        "    -------\n",
        "    None\n",
        "\n",
        "    Nota\n",
        "    -------\n",
        "    - Atualiza os montantes para todas as movimentações do tipo 'Investimento' com base na taxa de rendimento diária.\n",
        "    - A data do investimento é obtida a partir dos campos 'dia', 'mes' e 'ano' de cada movimentação.\n",
        "\n",
        "    Exemplo\n",
        "    -------\n",
        "    >>> atualiza_rendimento()\n",
        "\n",
        "    \"\"\"\n",
        "    \n",
        "    for movimento in registros:\n",
        "        if movimento[\"tipo\"] == \"investimento\":\n",
        "            valor_inicial = movimento[\"valor\"]\n",
        "            concatenar = str(movimento['ano']) + '-' + str(movimento['mes']) + '-' + str(movimento['dia'])\n",
        "            data_investimento = datetime.strptime(concatenar, \"%Y-%m-%d\")\n",
        "            movimento[\"montante\"] = calcula_rendimento(valor_inicial, data_investimento.strftime(\"%Y-%m-%d\"))"
      ]
    },
    {
      "cell_type": "markdown",
      "metadata": {},
      "source": [
        "### Função Exportar relatório"
      ]
    },
    {
      "cell_type": "code",
      "execution_count": 38,
      "metadata": {},
      "outputs": [],
      "source": [
        "def exportar_relatorio():\n",
        "    \"\"\"\n",
        "    Exporta um relatório final em formato CSV.\n",
        "\n",
        "    Parameters\n",
        "    ----------\n",
        "    None\n",
        "\n",
        "    Returns\n",
        "    -------\n",
        "    None\n",
        "\n",
        "    Nota\n",
        "    -------\n",
        "    - O relatório é exportado para um arquivo com nome padrão 'relatorio.csv'.\n",
        "    - O relatório inclui informações sobre tipo, valor, data e montante para cada movimentação no formato especificado.\n",
        "\n",
        "    Exemplo:\n",
        "    >>> exportar_relatorio()\n",
        "\n",
        "    \"\"\"\n",
        "\n",
        "    nome_arquivo = \"relatorio.csv\"\n",
        "\n",
        "    with open(nome_arquivo, \"w\") as file:\n",
        "        file.write(\"Tipo, Valor, Data, Montante\\n\")\n",
        "        for movimento in registros:\n",
        "            tipo = movimento.get('tipo', '')\n",
        "            valor = movimento.get('valor', '')\n",
        "            dia = movimento.get('dia', '')\n",
        "            mes = movimento.get('mes', '')\n",
        "            ano = movimento.get('ano', '')\n",
        "            montante = movimento.get('montante', 0)\n",
        "\n",
        "\n",
        "            data_formatada = f\"{ano}-{mes:02d}-{dia:02d}\"\n",
        "\n",
        "            file.write(f\"{tipo},{valor},{data_formatada},{montante}\\n\")\n",
        "\n",
        "    print(f\"Relatório exportado para {nome_arquivo}\")\n"
      ]
    },
    {
      "cell_type": "markdown",
      "metadata": {},
      "source": [
        "### Função Agrupar "
      ]
    },
    {
      "cell_type": "code",
      "execution_count": 66,
      "metadata": {},
      "outputs": [],
      "source": [
        "def agrupar_por(chave):\n",
        "    \"\"\"\n",
        "    Função de agrupamento capaz de mostrar o total de valor baseado em alguma informação (tipo, mes, ano, data).\n",
        "\n",
        "    Parameters\n",
        "    ----------\n",
        "    chave: string\n",
        "        Informação base para o agrupamento ('tipo', 'mes', 'ano', 'data')\n",
        "\n",
        "    Returns\n",
        "    -------\n",
        "    resultado: dict\n",
        "        Dicionário com o registro agrupado por chave\n",
        "\n",
        "    \"\"\"\n",
        "        \n",
        "    resultado = {}\n",
        "    for operacao in registros:\n",
        "        valor = operacao[\"valor\"]\n",
        "        if chave == \"tipo\":\n",
        "            chave_valor = operacao[\"tipo\"]\n",
        "        elif chave == \"mes\":\n",
        "            chave_valor = str(operacao[\"ano\"]) + \"-\" + str(operacao[\"mes\"]).zfill(2)\n",
        "        elif chave == \"ano\":\n",
        "            chave_valor = operacao[\"ano\"]\n",
        "        else:\n",
        "            chave_valor = str(operacao[\"ano\"]) + \"-\" + str(operacao[\"mes\"]).zfill(2) + \"-\" + str(operacao[\"dia\"]).zfill(2)\n",
        "\n",
        "        resultado[chave_valor] = resultado.get(chave_valor, 0) + valor\n",
        "\n",
        "    return dict(sorted(resultado.items()))"
      ]
    },
    {
      "cell_type": "markdown",
      "metadata": {},
      "source": [
        "### Função Verificar formato data\n"
      ]
    },
    {
      "cell_type": "code",
      "execution_count": 40,
      "metadata": {},
      "outputs": [],
      "source": [
        "def validarFormatoData(data):\n",
        "    \"\"\" \n",
        "    Função utilizada para verificar se a data está no formato desejado YYYY-MM-DD\n",
        "\n",
        "    Parameters\n",
        "    ----------\n",
        "    data: string\n",
        "        Recebe a data que o usuário inseriu \n",
        "\n",
        "    Returns\n",
        "    -------\n",
        "    Boolean: True / False\n",
        "\n",
        "    Nota\n",
        "    -------\n",
        "    - Após separar a data é verificado se o ano inserido possui 4 caracteres, se o mês inserido está entre 1 e 12 e se o dia inserido está entre 1 e 31\n",
        "\n",
        "    \"\"\"\n",
        "    \n",
        "    try:\n",
        "        ano, mes, dia = map(int, data.split('-'))\n",
        "        if len(str(ano)) == 4 and 1 <= mes <= 12 and 1 <= dia <= 31:\n",
        "            return True\n",
        "    except ValueError:\n",
        "         print('Formato de data inválido!')\n",
        "    return False"
      ]
    },
    {
      "cell_type": "markdown",
      "metadata": {},
      "source": [
        "# Testes executados"
      ]
    },
    {
      "cell_type": "markdown",
      "metadata": {},
      "source": [
        "### Criar registro"
      ]
    },
    {
      "cell_type": "code",
      "execution_count": 41,
      "metadata": {},
      "outputs": [
        {
          "data": {
            "text/plain": [
              "[{'tipo': 'receita', 'valor': 100, 'dia': 1, 'mes': 1, 'ano': 2022},\n",
              " {'tipo': 'despesa', 'valor': -50, 'dia': 2, 'mes': 1, 'ano': 2022},\n",
              " {'tipo': 'investimento',\n",
              "  'valor': 200,\n",
              "  'dia': 3,\n",
              "  'mes': 1,\n",
              "  'ano': 2022,\n",
              "  'montante': 53.946929706382946},\n",
              " {'tipo': 'receita', 'valor': 1000, 'dia': 1, 'mes': 1, 'ano': 2022},\n",
              " {'tipo': 'despesa', 'valor': -90, 'dia': 2, 'mes': 1, 'ano': 2022},\n",
              " {'tipo': 'investimento',\n",
              "  'valor': 200,\n",
              "  'dia': 3,\n",
              "  'mes': 5,\n",
              "  'ano': 2023,\n",
              "  'montante': 16.571341125616044},\n",
              " {'tipo': 'receita', 'valor': 550, 'dia': 3, 'mes': 2, 'ano': 2023}]"
            ]
          },
          "execution_count": 41,
          "metadata": {},
          "output_type": "execute_result"
        }
      ],
      "source": [
        "criar_registro(\"Receita\", 100, \"2022-01-01\")\n",
        "criar_registro(\"Despesa\", 50, \"2022-01-02\")\n",
        "criar_registro(\"Investimento\", 200, \"2022-01-03\")\n",
        "criar_registro(\"Receita\", 1000, \"2022-01-01\")\n",
        "criar_registro(\"Despesa\", 90, \"2022-01-02\")\n",
        "criar_registro(\"Investimento\", 200, \"2023-05-03\")\n",
        "criar_registro(\"Receita\", 550, \"2023-02-03\")\n",
        "criar_registro(\"despesa\", 230, \"2023-02-03\")\n",
        "\n",
        "registros"
      ]
    },
    {
      "cell_type": "markdown",
      "metadata": {},
      "source": [
        "### Ler registro"
      ]
    },
    {
      "cell_type": "code",
      "execution_count": 48,
      "metadata": {},
      "outputs": [
        {
          "name": "stdout",
          "output_type": "stream",
          "text": [
            "[{'tipo': 'receita', 'valor': 100, 'dia': 1, 'mes': 1, 'ano': 2022}, {'tipo': 'receita', 'valor': 1000, 'dia': 1, 'mes': 1, 'ano': 2022}, {'tipo': 'receita', 'valor': 550, 'dia': 3, 'mes': 2, 'ano': 2023}]\n",
            "[{'tipo': 'investimento', 'valor': 200, 'dia': 3, 'mes': 1, 'ano': 2022, 'montante': 53.946929706382946}]\n",
            "[{'tipo': 'receita', 'valor': 1000, 'dia': 1, 'mes': 1, 'ano': 2022}]\n"
          ]
        }
      ],
      "source": [
        "print(ler_registros('tipo', 'Receita'))\n",
        "\n",
        "print(ler_registros('data', '2022-01-03'))\n",
        "\n",
        "print(ler_registros('valor', 1000))"
      ]
    },
    {
      "cell_type": "markdown",
      "metadata": {},
      "source": [
        "### Atualizar registro"
      ]
    },
    {
      "cell_type": "code",
      "execution_count": 51,
      "metadata": {},
      "outputs": [
        {
          "name": "stdout",
          "output_type": "stream",
          "text": [
            "{'tipo': 'receita', 'valor': 1500.0, 'dia': 24, 'mes': 1, 'ano': 2024}\n",
            "Registro 0 atualizado com sucesso\n",
            "{'tipo': 'receita', 'valor': 1500.0, 'dia': 24, 'mes': 1, 'ano': 2024}\n"
          ]
        }
      ],
      "source": [
        "print(registros[0])\n",
        "atualizar_registro(0, tipo='Receita', valor=1500.0)\n",
        "print(registros[0])"
      ]
    },
    {
      "cell_type": "code",
      "execution_count": 52,
      "metadata": {},
      "outputs": [
        {
          "name": "stdout",
          "output_type": "stream",
          "text": [
            "{'tipo': 'investimento', 'valor': 200, 'dia': 3, 'mes': 1, 'ano': 2022, 'montante': 53.946929706382946}\n",
            "Registro 2 atualizado com sucesso\n",
            "{'tipo': 'investimento', 'valor': 100, 'dia': 24, 'mes': 1, 'ano': 2024, 'montante': 0.0}\n"
          ]
        }
      ],
      "source": [
        "# Verificar a atualização do montante\n",
        "print(registros[2])\n",
        "atualizar_registro(2, tipo='Investimento', valor=100)\n",
        "print(registros[2])"
      ]
    },
    {
      "cell_type": "markdown",
      "metadata": {},
      "source": [
        "### Deletar registro"
      ]
    },
    {
      "cell_type": "code",
      "execution_count": 53,
      "metadata": {},
      "outputs": [
        {
          "name": "stdout",
          "output_type": "stream",
          "text": [
            "{'tipo': 'despesa', 'valor': -50, 'dia': 2, 'mes': 1, 'ano': 2022}\n",
            "Registro 1 deletado com sucesso\n",
            "{'tipo': 'investimento', 'valor': 100, 'dia': 24, 'mes': 1, 'ano': 2024, 'montante': 0.0}\n"
          ]
        }
      ],
      "source": [
        "print(registros[1])\n",
        "deletar_registro(1)\n",
        "print(registros[1])"
      ]
    },
    {
      "cell_type": "markdown",
      "metadata": {},
      "source": [
        "### Atualizar rendimento"
      ]
    },
    {
      "cell_type": "code",
      "execution_count": 54,
      "metadata": {},
      "outputs": [
        {
          "name": "stdout",
          "output_type": "stream",
          "text": [
            "[{'tipo': 'investimento', 'valor': 100, 'dia': 24, 'mes': 1, 'ano': 2024, 'montante': 0.0}, {'tipo': 'investimento', 'valor': 200, 'dia': 3, 'mes': 5, 'ano': 2023, 'montante': 16.571341125616044}, {'tipo': 'investimento', 'valor': 500, 'dia': 3, 'mes': 1, 'ano': 2023, 'montante': 63.41251506598485}]\n",
            "[{'tipo': 'investimento', 'valor': 100, 'dia': 24, 'mes': 1, 'ano': 2024, 'montante': 0.0}, {'tipo': 'investimento', 'valor': 200, 'dia': 3, 'mes': 5, 'ano': 2023, 'montante': 16.571341125616044}, {'tipo': 'investimento', 'valor': 500, 'dia': 3, 'mes': 1, 'ano': 2023, 'montante': 63.41251506598485}]\n"
          ]
        }
      ],
      "source": [
        "criar_registro(\"Investimento\", 500, \"2023-01-03\")\n",
        "print(ler_registros('tipo', 'Investimento'))\n",
        "atualiza_rendimento()\n",
        "print(ler_registros('tipo', 'Investimento'))"
      ]
    },
    {
      "cell_type": "markdown",
      "metadata": {},
      "source": [
        "### Exportar relatorio .CSV"
      ]
    },
    {
      "cell_type": "code",
      "execution_count": 69,
      "metadata": {},
      "outputs": [
        {
          "name": "stdout",
          "output_type": "stream",
          "text": [
            "Relatório exportado para relatorio.csv\n"
          ]
        }
      ],
      "source": [
        "exportar_relatorio()"
      ]
    },
    {
      "cell_type": "markdown",
      "metadata": {},
      "source": [
        "### Agrupar por tipo"
      ]
    },
    {
      "cell_type": "code",
      "execution_count": 67,
      "metadata": {},
      "outputs": [
        {
          "name": "stdout",
          "output_type": "stream",
          "text": [
            "Agrupado por tipo: {'despesa': -320, 'investimento': 800, 'receita': 3050.0}\n",
            "Agrupado por mês: {'2022-01': 910, '2023-01': 500, '2023-02': 320, '2023-05': 200, '2024-01': 1600.0}\n",
            "Agrupado por ano: {2022: 910, 2023: 1020, 2024: 1600.0}\n",
            "Agrupado por data: {'2022-01-01': 1000, '2022-01-02': -90, '2023-01-03': 500, '2023-02-03': 320, '2023-05-03': 200, '2024-01-24': 1600.0}\n"
          ]
        }
      ],
      "source": [
        "print(\"Agrupado por tipo:\", agrupar_por(\"tipo\"))\n",
        "print(\"Agrupado por ano:\", agrupar_por(\"ano\"))\n",
        "print(\"Agrupado por mês:\", agrupar_por(\"mes\"))\n",
        "print(\"Agrupado por data:\", agrupar_por(\"data\"))"
      ]
    },
    {
      "attachments": {},
      "cell_type": "markdown",
      "metadata": {},
      "source": [
        "### Consultas por tipo"
      ]
    },
    {
      "cell_type": "code",
      "execution_count": 70,
      "metadata": {},
      "outputs": [
        {
          "name": "stdout",
          "output_type": "stream",
          "text": [
            "Pesquisa por tipo Receita: [{'tipo': 'receita', 'valor': 1500.0, 'dia': 24, 'mes': 1, 'ano': 2024}, {'tipo': 'receita', 'valor': 1000, 'dia': 1, 'mes': 1, 'ano': 2022}, {'tipo': 'receita', 'valor': 550, 'dia': 3, 'mes': 2, 'ano': 2023}]\n",
            "Pesquisa por tipo Despesa: [{'tipo': 'despesa', 'valor': -90, 'dia': 2, 'mes': 1, 'ano': 2022}, {'tipo': 'despesa', 'valor': -230, 'dia': 3, 'mes': 2, 'ano': 2023}]\n",
            "Pesquisa por tipo Investimento: [{'tipo': 'investimento', 'valor': 100, 'dia': 24, 'mes': 1, 'ano': 2024, 'montante': 0.0}, {'tipo': 'investimento', 'valor': 200, 'dia': 3, 'mes': 5, 'ano': 2023, 'montante': 16.571341125616044}, {'tipo': 'investimento', 'valor': 500, 'dia': 3, 'mes': 1, 'ano': 2023, 'montante': 63.41251506598485}]\n",
            "Pesquisa por valor: [{'tipo': 'investimento', 'valor': 100, 'dia': 24, 'mes': 1, 'ano': 2024, 'montante': 0.0}]\n",
            "Pesquisa por valor: []\n",
            "Pesquisa por data: [{'tipo': 'receita', 'valor': 1000, 'dia': 1, 'mes': 1, 'ano': 2022}]\n",
            "Pesquisa por data: [{'tipo': 'receita', 'valor': 1500.0, 'dia': 24, 'mes': 1, 'ano': 2024}, {'tipo': 'investimento', 'valor': 100, 'dia': 24, 'mes': 1, 'ano': 2024, 'montante': 0.0}]\n"
          ]
        }
      ],
      "source": [
        "print(\"Pesquisa por tipo Receita:\", ler_registros(\"tipo\",'Receita'))\n",
        "print(\"Pesquisa por tipo Despesa:\", ler_registros(\"tipo\",'Despesa'))\n",
        "print(\"Pesquisa por tipo Investimento:\", ler_registros(\"tipo\",'Investimento'))\n",
        "\n",
        "print(\"Pesquisa por valor:\", ler_registros(\"valor\",100))\n",
        "print(\"Pesquisa por valor:\", ler_registros(\"valor\",-50))\n",
        "\n",
        "print(\"Pesquisa por data:\", ler_registros(\"data\",\"2022-01-01\"))\n",
        "print(\"Pesquisa por data:\", ler_registros(\"data\",\"2024-01-24\"))"
      ]
    },
    {
      "cell_type": "markdown",
      "metadata": {},
      "source": [
        "# Testes com interação com o usuário"
      ]
    },
    {
      "cell_type": "code",
      "execution_count": 28,
      "metadata": {},
      "outputs": [
        {
          "name": "stdout",
          "output_type": "stream",
          "text": [
            "\n",
            "----- Menu -----\n",
            "1. Criar Registro\n",
            "2. Ler Registros\n",
            "3. Atualizar Registro\n",
            "4. Deletar Registro\n",
            "5. Atualizar Rendimento\n",
            "6. Exportar Relatório\n",
            "7. Agrupar Registros\n",
            "8. Sair\n",
            "Tipo inválido! Insira um tipo válido\n",
            "Valor inválido! Insira um valor válido\n",
            "Valor inválido! Insira um valor válido\n",
            "Formato de data inválido!\n",
            "Formato de data inválido! Digite a data no formato correto! (YYYY-MM-DD)\n",
            "Formato de data inválido!\n",
            "Formato de data inválido! Digite a data no formato correto! (YYYY-MM-DD)\n",
            "Formato de data inválido!\n",
            "Formato de data inválido! Digite a data no formato correto! (YYYY-MM-DD)\n",
            "Formato de data inválido! Digite a data no formato correto! (YYYY-MM-DD)\n",
            "Registro criado com sucesso!\n",
            "\n",
            "----- Menu -----\n",
            "1. Criar Registro\n",
            "2. Ler Registros\n",
            "3. Atualizar Registro\n",
            "4. Deletar Registro\n",
            "5. Atualizar Rendimento\n",
            "6. Exportar Relatório\n",
            "7. Agrupar Registros\n",
            "8. Sair\n",
            "Chave inválida! Insira uma chave válida\n",
            "Resultados:\n",
            "{'tipo': 'receita', 'valor': 300.0, 'dia': 6, 'mes': 4, 'ano': 2023}\n",
            "\n",
            "----- Menu -----\n",
            "1. Criar Registro\n",
            "2. Ler Registros\n",
            "3. Atualizar Registro\n",
            "4. Deletar Registro\n",
            "5. Atualizar Rendimento\n",
            "6. Exportar Relatório\n",
            "7. Agrupar Registros\n",
            "8. Sair\n",
            "Saindo do programa. Até mais!\n"
          ]
        }
      ],
      "source": [
        "escolha = \"0\"\n",
        "loop_check = True\n",
        "\n",
        "while escolha != \"8\":\n",
        "    print(\"\\n----- Menu -----\")\n",
        "    print(\"1. Criar Registro\")\n",
        "    print(\"2. Ler Registros\")\n",
        "    print(\"3. Atualizar Registro\")\n",
        "    print(\"4. Deletar Registro\")\n",
        "    print(\"5. Atualizar Rendimento\")\n",
        "    print(\"6. Exportar Relatório\")\n",
        "    print(\"7. Agrupar Registros\")\n",
        "    print(\"8. Sair\")\n",
        "\n",
        "    escolha = input(\"Escolha uma opção (1-8):\")\n",
        "\n",
        "    if escolha == '1':\n",
        "        loop_check = True\n",
        "        while loop_check:\n",
        "            tipo = input(\"Tipo (Receita/Despesa/Investimento): \").lower()\n",
        "            if tipo in ['receita', 'despesa', 'investimento']:\n",
        "                loop_check = False\n",
        "            else:\n",
        "                print(\"Tipo inválido! Insira um tipo válido\")\n",
        "\n",
        "        loop_check = True\n",
        "        while loop_check:\n",
        "            try:\n",
        "                valor = float(input(\"Valor: \"))\n",
        "                loop_check = False\n",
        "            except ValueError:\n",
        "                print(\"Valor inválido! Insira um valor válido\")\n",
        "\n",
        "        loop_check = True\n",
        "        while loop_check:\n",
        "            data = input(\"Data (YYYY-MM-DD): \")\n",
        "            if validarFormatoData(data):\n",
        "                loop_check = False\n",
        "            else:\n",
        "                print(\"Formato de data inválido! Digite a data no formato correto! (YYYY-MM-DD)\")\n",
        "\n",
        "        criar_registro(tipo, valor, data)\n",
        "        print(\"Registro criado com sucesso!\")\n",
        "\n",
        "    elif escolha == '2':\n",
        "        loop_check = True\n",
        "        while loop_check:\n",
        "            chave = input(\"Chave para consulta (tipo/valor/data): \").lower()\n",
        "            if chave in ['tipo','valor','data']:\n",
        "                loop_check = False\n",
        "            else:\n",
        "                print(\"Chave inválida! Insira uma chave válida\")\n",
        "\n",
        "        loop_check = True\n",
        "        while loop_check:\n",
        "            try:\n",
        "                valor = input(\"Valor para consulta: \")\n",
        "                loop_check = False\n",
        "            except ValueError:\n",
        "                print(\"Valor inválido! Insira um valor válido\")\n",
        "\n",
        "        resultado = ler_registros(chave, valor)\n",
        "        print(\"Resultados:\")\n",
        "        for movimento in resultado:\n",
        "            print(movimento)\n",
        "\n",
        "    elif escolha == '3':\n",
        "        loop_check = True\n",
        "        while loop_check:\n",
        "            try:\n",
        "                indice = int(input(\"Índice do registro a ser atualizado: \"))\n",
        "                loop_check = False\n",
        "            except ValueError:\n",
        "                print(\"Índice inválido! Insira um índice válido\")\n",
        "\n",
        "        loop_check = True     \n",
        "        while loop_check:\n",
        "            tipo = input(\"Tipo (Receita/Despesa/Investimento): \").capitalize()\n",
        "            if tipo in ['Receita', 'Despesa', 'Investimento']:\n",
        "                loop_check = False\n",
        "            else:\n",
        "                print(\"Tipo inválido! Insira um tipo válido\")\n",
        "\n",
        "        loop_check = True\n",
        "        while loop_check:\n",
        "            try:\n",
        "                valor = float(input(\"Valor: \"))\n",
        "                loop_check = False\n",
        "            except ValueError:\n",
        "                print(\"Valor inválido! Insira um valor válido\")\n",
        "\n",
        "        atualizar_registro(indice, tipo, valor)\n",
        "        print(\"Registro atualizado com sucesso!\")\n",
        "\n",
        "    elif escolha == '4':\n",
        "        loop_check = True\n",
        "        while loop_check:\n",
        "            try:\n",
        "                indice = int(input(\"Índice do registro a ser deletado: \"))\n",
        "                loop_check = False\n",
        "            except ValueError:\n",
        "                print(\"Índice inválido! Insira um índice válido\")\n",
        "                \n",
        "        deletar_registro(indice)\n",
        "\n",
        "    elif escolha == '5':\n",
        "        atualiza_rendimento()\n",
        "        print(\"Rendimento atualizado para todos os investimentos.\")\n",
        "\n",
        "    elif escolha == '6':\n",
        "        print(\"Seu relatório será gerado em .csv\")\n",
        "        exportar_relatorio()\n",
        "\n",
        "    elif escolha == '7':\n",
        "        loop_check = True\n",
        "        while loop_check:\n",
        "            chave = input(\"Chave para agrupamento (tipo/mes/ano/data): \").lower()\n",
        "            if chave in ['tipo','mes', 'ano', 'data']:\n",
        "                loop_check = False\n",
        "            else:\n",
        "                print(\"Chave inválida! Insira uma chave válida\")\n",
        "        resultado = agrupar_por(chave)\n",
        "        print(\"Resultados:\")\n",
        "        print(resultado)\n",
        "\n",
        "    elif escolha == '8':\n",
        "        print(\"Saindo do programa. Até mais!\")\n",
        "        loop_check = False\n",
        "    else:\n",
        "        print(\"Opção inválida. Por favor, escolha uma opção válida.\")"
      ]
    },
    {
      "cell_type": "code",
      "execution_count": null,
      "metadata": {},
      "outputs": [],
      "source": []
    }
  ],
  "metadata": {
    "colab": {
      "private_outputs": true,
      "provenance": []
    },
    "kernelspec": {
      "display_name": "Python 3",
      "language": "python",
      "name": "python3"
    },
    "language_info": {
      "codemirror_mode": {
        "name": "ipython",
        "version": 3
      },
      "file_extension": ".py",
      "mimetype": "text/x-python",
      "name": "python",
      "nbconvert_exporter": "python",
      "pygments_lexer": "ipython3",
      "version": "3.11.1"
    },
    "vscode": {
      "interpreter": {
        "hash": "4c27683f14e0d5aec8edf7b0ff88e12954114d98695ba1c4a8788d3d663bea55"
      }
    }
  },
  "nbformat": 4,
  "nbformat_minor": 0
}
